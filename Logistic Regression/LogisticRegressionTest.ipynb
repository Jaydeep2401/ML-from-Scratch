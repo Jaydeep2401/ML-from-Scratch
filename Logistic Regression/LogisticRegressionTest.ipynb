{
 "cells": [
  {
   "cell_type": "code",
   "execution_count": 1,
   "source": [
    "# importing necessary libraries\r\n",
    "import numpy as np\r\n",
    "from sklearn import datasets\r\n",
    "from sklearn.model_selection import train_test_split\r\n",
    "import matplotlib.pyplot as plt \r\n",
    "import warnings\r\n",
    "warnings.filterwarnings(\"ignore\")"
   ],
   "outputs": [],
   "metadata": {}
  },
  {
   "cell_type": "code",
   "execution_count": 2,
   "source": [
    "# loading breast cancer dataset and splitting it to training and test sets\r\n",
    "df = datasets.load_breast_cancer()\r\n",
    "X, y = df.data, df.target\r\n",
    "\r\n",
    "X_train, X_test, y_train, y_test = train_test_split(X, y, test_size = 0.2, random_state = 1234)"
   ],
   "outputs": [],
   "metadata": {}
  },
  {
   "cell_type": "code",
   "execution_count": 3,
   "source": [
    "# Training Logistic Regression model\r\n",
    "from LogisticRegression import LogisticRegression\r\n",
    "lor = LogisticRegression()\r\n",
    "lor.fit(X_train, y_train)\r\n",
    "y_pred = lor.predict(X_test)\r\n",
    "\r\n",
    "# Classification Accuracy\r\n",
    "print(f\"Accuracy: {lor.accuracy_score(y_pred, y_test)}\")"
   ],
   "outputs": [
    {
     "output_type": "stream",
     "name": "stdout",
     "text": [
      "Accuracy: 0.9210526315789473\n"
     ]
    }
   ],
   "metadata": {}
  }
 ],
 "metadata": {
  "interpreter": {
   "hash": "752dd52062e56d0766bd7b5c3d3204167286e676204114e7958baa3387ab34d0"
  },
  "kernelspec": {
   "display_name": "Python 3.8.5 64-bit ('base': conda)",
   "name": "python3"
  },
  "language_info": {
   "codemirror_mode": {
    "name": "ipython",
    "version": 3
   },
   "file_extension": ".py",
   "mimetype": "text/x-python",
   "name": "python",
   "nbconvert_exporter": "python",
   "pygments_lexer": "ipython3",
   "version": "3.8.5"
  },
  "orig_nbformat": 2
 },
 "nbformat": 4,
 "nbformat_minor": 2
}